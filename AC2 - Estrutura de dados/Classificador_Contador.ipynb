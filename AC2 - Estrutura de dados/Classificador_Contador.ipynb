{
  "cells": [
    {
      "cell_type": "markdown",
      "metadata": {
        "id": "uOGTd518GrhQ"
      },
      "source": [
        "## Código de Classificação Manual de Imagens\n",
        "\n",
        "> Indicador de contagem e classificação\n",
        "\n",
        "\n"
      ]
    },
    {
      "cell_type": "markdown",
      "metadata": {
        "id": "1THRBnBkHdfa"
      },
      "source": [
        "### Objetivo\n",
        "Esta pipeline tem como base utilizar a linguagem Python através de conceitos da matéria de Estrutura de Dados implementando um script para contar e classificar imagens. Para funcionar da maneira esperada, é necessário executar as células na sequencia"
      ]
    },
    {
      "cell_type": "code",
      "execution_count": 4,
      "metadata": {
        "id": "U4vFqN3NIqnQ"
      },
      "outputs": [],
      "source": [
        "# Definição de constantes e dicionários\n",
        "origem = \"./imagens/\"\n",
        "\n",
        "classificacoes = {\n",
        "    \"Situacao\": [\"Onibus\", \"Caminhão\", \"Moto\", \" Carro\"]\n",
        "}"
      ]
    },
    {
      "cell_type": "markdown",
      "metadata": {
        "id": "_BBk_c_jGgvM"
      },
      "source": [
        "## Bibliotecas a serem utilizadas\n",
        "- multi_label_annotate\n",
        "- IPython\n",
        "- os\n"
      ]
    },
    {
      "cell_type": "markdown",
      "metadata": {
        "id": "NvEVXgFKGBYl"
      },
      "source": [
        "### Importando bibliotecas\n",
        "><sub> Apenas executar todas as células a seguir.</sub>"
      ]
    },
    {
      "cell_type": "code",
      "execution_count": 2,
      "metadata": {
        "id": "KuD3DN41GIHU"
      },
      "outputs": [],
      "source": [
        "# Importação de bibliotecas\n",
        "import os\n",
        "from multi_label_pigeon import multi_label_annotate\n",
        "from IPython.display import display, Image\n",
        "\n"
      ]
    },
    {
      "cell_type": "markdown",
      "metadata": {
        "id": "gTvMwY6SGt7j"
      },
      "source": [
        "### Preparando ambiente para classificação\n",
        "><sub> Apenas executar todas as células a seguir.</sub>"
      ]
    },
    {
      "cell_type": "code",
      "execution_count": 9,
      "metadata": {
        "colab": {
          "base_uri": "https://localhost:8080/"
        },
        "id": "e48wm8nTG08D",
        "outputId": "e0dc6790-204d-4739-dbaa-d7a871dc9a89"
      },
      "outputs": [
        {
          "name": "stdout",
          "output_type": "stream",
          "text": [
            "Número total de imagens: 10\n"
          ]
        }
      ],
      "source": [
        "# Listagem de arquivos e anotações multi-rótulos\n",
        "arquivos = []\n",
        "for nomeArquivo in os.listdir(origem):\n",
        "    f = os.path.join(origem, nomeArquivo)\n",
        "    if os.path.isfile(f):\n",
        "        arquivos.append(f)\n",
        "print(\"Número total de imagens:\", len(arquivos))"
      ]
    },
    {
      "cell_type": "markdown",
      "metadata": {
        "id": "Bcck8SIFOqkX"
      },
      "source": [
        "# Classificação Manual das Imagens"
      ]
    },
    {
      "cell_type": "markdown",
      "metadata": {
        "id": "hsBb0jAuG3RL"
      },
      "source": [
        "### Iniciar classificação\n",
        "> Para executar a classificação deve-se executar a célula."
      ]
    },
    {
      "cell_type": "code",
      "execution_count": 11,
      "metadata": {
        "id": "o9YAhoQlG6Ub"
      },
      "outputs": [
        {
          "data": {
            "application/vnd.jupyter.widget-view+json": {
              "model_id": "c7ceb9c80bac4f52ba3421d914664dbf",
              "version_major": 2,
              "version_minor": 0
            },
            "text/plain": [
              "HTML(value='0 examples annotated, 11 examples left')"
            ]
          },
          "metadata": {},
          "output_type": "display_data"
        },
        {
          "name": "stdout",
          "output_type": "stream",
          "text": [
            "Situacao\n"
          ]
        },
        {
          "data": {
            "application/vnd.jupyter.widget-view+json": {
              "model_id": "76a6a38b99d64894adcfcc43e1b1555c",
              "version_major": 2,
              "version_minor": 0
            },
            "text/plain": [
              "HBox(children=(Button(description='Onibus', style=ButtonStyle()), Button(description='Caminhão', style=ButtonS…"
            ]
          },
          "metadata": {},
          "output_type": "display_data"
        },
        {
          "name": "stdout",
          "output_type": "stream",
          "text": [
            "\n"
          ]
        },
        {
          "data": {
            "application/vnd.jupyter.widget-view+json": {
              "model_id": "abd54db0726f420e9b76edcaec4b4be2",
              "version_major": 2,
              "version_minor": 0
            },
            "text/plain": [
              "HBox(children=(Button(description='done', style=ButtonStyle()), Button(description='back', style=ButtonStyle()…"
            ]
          },
          "metadata": {},
          "output_type": "display_data"
        },
        {
          "data": {
            "application/vnd.jupyter.widget-view+json": {
              "model_id": "5a69ad3880ae41b2a5e241f7a1807299",
              "version_major": 2,
              "version_minor": 0
            },
            "text/plain": [
              "Output()"
            ]
          },
          "metadata": {},
          "output_type": "display_data"
        },
        {
          "name": "stdout",
          "output_type": "stream",
          "text": [
            "Annotation done.\n"
          ]
        }
      ],
      "source": [
        "annotations = multi_label_annotate(\n",
        "  arquivos,\n",
        "  options=classificacoes,\n",
        "  display_fn=lambda nomeArquivos: display(Image(nomeArquivos))\n",
        ")\n"
      ]
    },
    {
      "cell_type": "markdown",
      "metadata": {},
      "source": [
        "### Indicadores gerados"
      ]
    },
    {
      "cell_type": "code",
      "execution_count": 12,
      "metadata": {},
      "outputs": [
        {
          "name": "stdout",
          "output_type": "stream",
          "text": [
            " Carro/9 -  Carro/\n",
            "Moto/1 - Moto/\n"
          ]
        }
      ],
      "source": [
        "class NoArvore:\n",
        "    def __init__(self):\n",
        "        self.filhos = {}\n",
        "        self.contagem = 0\n",
        "\n",
        "# Crie um nó raiz\n",
        "raiz = NoArvore()\n",
        "\n",
        "# Itere sobre as anotações\n",
        "for nome in annotations:\n",
        "    for classificacao in annotations[nome]:\n",
        "        classe = annotations[nome][classificacao][0]\n",
        "        \n",
        "        # Divida a classificação em partes, para criar uma hierarquia\n",
        "        partes = classe.split('/')\n",
        "        \n",
        "        # Comece a partir da raiz\n",
        "        no = raiz\n",
        "        for parte in partes:\n",
        "            if parte not in no.filhos:\n",
        "                no.filhos[parte] = NoArvore()\n",
        "            no = no.filhos[parte]\n",
        "            no.contagem += 1\n",
        "\n",
        "# Função para imprimir a árvore\n",
        "def imprimir_arvore(no, prefixo=\"\"):\n",
        "    if no.contagem > 0:\n",
        "        print(f\"{prefixo}{no.contagem} - {prefixo}\")\n",
        "    for nome_filho, no_filho in no.filhos.items():\n",
        "        imprimir_arvore(no_filho, prefixo + nome_filho + '/')\n",
        "\n",
        "# Exiba a contagem usando a função de impressão\n",
        "imprimir_arvore(raiz)\n"
      ]
    }
  ],
  "metadata": {
    "colab": {
      "collapsed_sections": [
        "9vIV42bbHyu7",
        "ZQfSwjtsOWMe",
        "NvEVXgFKGBYl",
        "bDusD9gQOIR1"
      ],
      "name": "ManualClassification.ipynb",
      "provenance": [],
      "toc_visible": true
    },
    "kernelspec": {
      "display_name": "Python 3",
      "language": "python",
      "name": "python3"
    },
    "language_info": {
      "codemirror_mode": {
        "name": "ipython",
        "version": 3
      },
      "file_extension": ".py",
      "mimetype": "text/x-python",
      "name": "python",
      "nbconvert_exporter": "python",
      "pygments_lexer": "ipython3",
      "version": "3.11.6"
    },
    "vscode": {
      "interpreter": {
        "hash": "0772b47a4eaba6532b0619d92d7156179c13c3595fdd26747b69de79da117117"
      }
    }
  },
  "nbformat": 4,
  "nbformat_minor": 0
}
